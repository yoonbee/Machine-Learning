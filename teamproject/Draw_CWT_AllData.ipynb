{
 "cells": [
  {
   "cell_type": "code",
   "execution_count": null,
   "metadata": {},
   "outputs": [
    {
     "name": "stderr",
     "output_type": "stream",
     "text": [
      "c:\\anaconda3\\envs\\ai_team\\lib\\site-packages\\pyunicorn\\timeseries\\surrogates.py:460: RuntimeWarning: invalid value encountered in true_divide\n",
      "  r_phases = r_fft / np.abs(r_fft)\n"
     ]
    }
   ],
   "source": [
    "import os\n",
    "from pyunicorn.timeseries.surrogates import Surrogates\n",
    "import numpy as np\n",
    "import pandas as pd\n",
    "import matplotlib.pyplot as plt\n",
    "from mpl_toolkits.axes_grid1 import ImageGrid\n",
    "from pyts.image import GramianAngularField\n",
    "import pywt\n",
    "\n",
    "for root, dirs, files in os.walk('dataset/tri'):\n",
    "    filename = []\n",
    "    for fname in files:\n",
    "        full_fname = os.path.join(root, fname)\n",
    "        filename.append(full_fname)    \n",
    "number = 0\n",
    "\n",
    "for index, fn in enumerate(filename):    \n",
    "    \n",
    "    with open(fn) as file:\n",
    "        \n",
    "        sp = []\n",
    "        row = []        \n",
    "\n",
    "        for line in file:\n",
    "            sp = line.rstrip().split('\\t')\n",
    "            \n",
    "            if sp[0]=='' or sp[0] ==\"\\n\":\n",
    "                pass\n",
    "            else:\n",
    "                row.append(list(map(float, sp[:3])))      \n",
    "            \n",
    "\n",
    "        t = []\n",
    "        data1 = []\n",
    "        data2 = []\n",
    "\n",
    "        for r in np.array(row):\n",
    "            t.append(r[0])\n",
    "            data1.append(r[1])\n",
    "            data2.append(r[2])\n",
    "\n",
    "        td = np.array([])\n",
    "        td = np.append(td, t, axis=0)\n",
    "        td = np.vstack([td, data1])\n",
    "        td = np.vstack([td, data2])\n",
    "        \n",
    "        for i in range(100):\n",
    "        \n",
    "            #AAFT\n",
    "            #d = Surrogates(original_data=td, silence_level=2).AAFT_surrogates(td)\n",
    "\n",
    "            #IAAFT\n",
    "            d = Surrogates(original_data=td, silence_level=2).refined_AAFT_surrogates(td,10000)\n",
    "\n",
    "            # ============  CWT Scalogram ============= #\n",
    "\n",
    "            at = np.linspace(0, 2, 20, endpoint=False)\n",
    "            asig = d[1]\n",
    "            asigA = d[2]\n",
    "            awidths = np.arange(1, 20)\n",
    "\n",
    "            acwtmatr, afreqs = pywt.cwt(asig, awidths, 'mexh')\n",
    "\n",
    "            plt.imshow(acwtmatr, extent=[0, 2, 1, 20], cmap='rainbow', aspect='auto',vmax=abs(acwtmatr).max(), vmin=-abs(acwtmatr).max())  # doctest: +SKIP\n",
    "            plt.savefig('IAAFT\\CWT\\Tri\\RMS\\CWT_' + str(index * 100 + i) + '.png', pad_inches=0) # doctest: +SKIP\n",
    "            plt.cla()\n",
    "            \n",
    "            acwtmatr, afreqs = pywt.cwt(asigA, awidths, 'mexh')\n",
    "\n",
    "            plt.imshow(acwtmatr, extent=[0, 2, 1, 20], cmap='rainbow', aspect='auto',vmax=abs(acwtmatr).max(), vmin=-abs(acwtmatr).max())  # doctest: +SKIP\n",
    "            plt.savefig('IAAFT\\CWT\\Tri\\Angle\\CWT_' + str(index * 100 + i) + '.png', pad_inches=0) # doctest: +SKIP\n",
    "\n",
    "            plt.cla()\n",
    "            plt.close('all') \n",
    "            \n",
    "        "
   ]
  },
  {
   "cell_type": "code",
   "execution_count": null,
   "metadata": {},
   "outputs": [],
   "source": []
  },
  {
   "cell_type": "code",
   "execution_count": null,
   "metadata": {},
   "outputs": [],
   "source": []
  }
 ],
 "metadata": {
  "kernelspec": {
   "display_name": "Python 3",
   "language": "python",
   "name": "python3"
  },
  "language_info": {
   "codemirror_mode": {
    "name": "ipython",
    "version": 3
   },
   "file_extension": ".py",
   "mimetype": "text/x-python",
   "name": "python",
   "nbconvert_exporter": "python",
   "pygments_lexer": "ipython3",
   "version": "3.7.9"
  }
 },
 "nbformat": 4,
 "nbformat_minor": 4
}
