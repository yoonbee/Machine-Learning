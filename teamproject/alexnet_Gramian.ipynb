{
 "cells": [
  {
   "cell_type": "code",
   "execution_count": 1,
   "metadata": {},
   "outputs": [],
   "source": [
    "import tensorflow as tf \n",
    "from tensorflow import keras \n",
    "\n",
    "import numpy as np \n",
    "import matplotlib.pyplot as plt"
   ]
  },
  {
   "cell_type": "code",
   "execution_count": 2,
   "metadata": {},
   "outputs": [],
   "source": [
    "# 파일 불러오기\n",
    "import os, re, glob\n",
    "import cv2\n",
    "\n",
    "image_size = 32\n",
    "\n",
    "groups_folder_path = './Gramian/'\n",
    "\n",
    "X_r = []\n",
    "X_a = []\n",
    "y = []\n",
    "\n",
    "for label in ['Bi', 'Tri']:\n",
    "    \n",
    "    for feature in ['RMS', 'Angle']:\n",
    "    \n",
    "    \n",
    "        for top, dir, f in os.walk(groups_folder_path+label+\"/\"+feature+\"/\"):\n",
    "            for filename in f:\n",
    "                img = cv2.imread(groups_folder_path+label+\"/\"+feature+\"/\"+filename)\n",
    "                img = cv2.resize(img, None, fx=image_size/img.shape[0], fy=image_size/img.shape[1])\n",
    "                \n",
    "                if feature == 'RMS':\n",
    "                    X_r.append(img/256)\n",
    "                    \n",
    "                elif feature == 'Angle':\n",
    "                    X_a.append(img/256)   \n",
    "                    \n",
    "                    if label == 'Bi':\n",
    "                        y.append(2)\n",
    "                    else:\n",
    "                        y.append(3)"
   ]
  },
  {
   "cell_type": "code",
   "execution_count": 3,
   "metadata": {},
   "outputs": [
    {
     "name": "stdout",
     "output_type": "stream",
     "text": [
      "(16, 64, 3)\n"
     ]
    }
   ],
   "source": [
    "print(X_r[0].shape)"
   ]
  },
  {
   "cell_type": "code",
   "execution_count": 4,
   "metadata": {},
   "outputs": [],
   "source": [
    "X = []\n",
    "\n",
    "for r, a in zip(X_r, X_a):\n",
    "    img = []\n",
    "    for i in range(len(r)):\n",
    "        row = np.concatenate((r[i], a[i]), axis=1)\n",
    "        img.append(row)\n",
    "    X.append(img)\n",
    "    \n",
    "X = np.array(X)\n",
    "y = np.array(y)"
   ]
  },
  {
   "cell_type": "code",
   "execution_count": 5,
   "metadata": {},
   "outputs": [],
   "source": [
    "# train, test split\n",
    "from sklearn.model_selection import train_test_split\n",
    "\n",
    "X_train, X_test, y_train, y_test = train_test_split(X, y, test_size=0.2, random_state=42, stratify=y)"
   ]
  },
  {
   "cell_type": "code",
   "execution_count": 6,
   "metadata": {},
   "outputs": [
    {
     "name": "stdout",
     "output_type": "stream",
     "text": [
      "(16000, 16, 64, 6)\n"
     ]
    }
   ],
   "source": [
    "print(X_train.shape)"
   ]
  },
  {
   "cell_type": "code",
   "execution_count": 7,
   "metadata": {},
   "outputs": [
    {
     "data": {
      "text/plain": [
       "Counter({3: 8000, 2: 8000})"
      ]
     },
     "execution_count": 7,
     "metadata": {},
     "output_type": "execute_result"
    }
   ],
   "source": [
    "import collections\n",
    "\n",
    "collections.Counter(y_train)"
   ]
  },
  {
   "cell_type": "code",
   "execution_count": 8,
   "metadata": {},
   "outputs": [],
   "source": [
    "# validation split\n",
    "\n",
    "X_train, X_validation, y_train, y_validation = train_test_split(X_train, y_train, test_size=0.1, random_state=10, stratify=y_train)"
   ]
  },
  {
   "cell_type": "code",
   "execution_count": 9,
   "metadata": {},
   "outputs": [
    {
     "name": "stdout",
     "output_type": "stream",
     "text": [
      "(14400, 16, 64, 6) (1600, 16, 64, 6)\n",
      "Counter({2: 7200, 3: 7200})\n"
     ]
    }
   ],
   "source": [
    "print(X_train.shape, X_validation.shape)\n",
    "print(collections.Counter(y_train))"
   ]
  },
  {
   "cell_type": "code",
   "execution_count": 10,
   "metadata": {},
   "outputs": [],
   "source": [
    "# plt.figure(figsize=(32,32))\n",
    "# for i in range(25):\n",
    "#     plt.subplot(5,5,i+1)\n",
    "#     plt.xticks([])\n",
    "#     plt.yticks([])\n",
    "#     plt.grid(False)\n",
    "#     plt.imshow(X_train[i], cmap=plt.cm.binary)\n",
    "#     # The CIFAR labels happen to be arrays, \n",
    "#     # which is why you need the extra index\n",
    "#     plt.xlabel(y_train[i])\n",
    "# plt.show()"
   ]
  },
  {
   "cell_type": "code",
   "execution_count": 11,
   "metadata": {},
   "outputs": [],
   "source": [
    "AlexNet = keras.models.Sequential([\n",
    "        keras.layers.Conv2D(256, (6, 6), activation='relu', input_shape=X_train[0].shape), \n",
    "        keras.layers.MaxPooling2D( (2, 2) ), \n",
    "        keras.layers.Conv2D(384, (3, 3), padding='same', activation='relu'), \n",
    "        keras.layers.Conv2D(384, (3, 3), padding='same', activation='relu'), \n",
    "        keras.layers.Conv2D(256, (3, 3), padding='same', activation='relu'), \n",
    "        keras.layers.MaxPooling2D( (2, 2) ), \n",
    "        keras.layers.Flatten(), \n",
    "        keras.layers.Dense(4096, activation='relu'), \n",
    "        keras.layers.Dense(4096, activation='relu'), \n",
    "        keras.layers.Dense(len(y_train), activation='softmax') \n",
    "])"
   ]
  },
  {
   "cell_type": "code",
   "execution_count": 12,
   "metadata": {},
   "outputs": [
    {
     "name": "stdout",
     "output_type": "stream",
     "text": [
      "Model: \"sequential\"\n",
      "_________________________________________________________________\n",
      "Layer (type)                 Output Shape              Param #   \n",
      "=================================================================\n",
      "conv2d (Conv2D)              (None, 11, 59, 256)       55552     \n",
      "_________________________________________________________________\n",
      "max_pooling2d (MaxPooling2D) (None, 5, 29, 256)        0         \n",
      "_________________________________________________________________\n",
      "conv2d_1 (Conv2D)            (None, 5, 29, 384)        885120    \n",
      "_________________________________________________________________\n",
      "conv2d_2 (Conv2D)            (None, 5, 29, 384)        1327488   \n",
      "_________________________________________________________________\n",
      "conv2d_3 (Conv2D)            (None, 5, 29, 256)        884992    \n",
      "_________________________________________________________________\n",
      "max_pooling2d_1 (MaxPooling2 (None, 2, 14, 256)        0         \n",
      "_________________________________________________________________\n",
      "flatten (Flatten)            (None, 7168)              0         \n",
      "_________________________________________________________________\n",
      "dense (Dense)                (None, 4096)              29364224  \n",
      "_________________________________________________________________\n",
      "dense_1 (Dense)              (None, 4096)              16781312  \n",
      "_________________________________________________________________\n",
      "dense_2 (Dense)              (None, 14400)             58996800  \n",
      "=================================================================\n",
      "Total params: 108,295,488\n",
      "Trainable params: 108,295,488\n",
      "Non-trainable params: 0\n",
      "_________________________________________________________________\n"
     ]
    }
   ],
   "source": [
    "AlexNet.summary()"
   ]
  },
  {
   "cell_type": "code",
   "execution_count": 13,
   "metadata": {},
   "outputs": [],
   "source": [
    "AlexNet.compile(loss=keras.losses.sparse_categorical_crossentropy, \n",
    "              optimizer=keras.optimizers.SGD(learning_rate=0.01), \n",
    "              metrics=[keras.metrics.sparse_categorical_accuracy])"
   ]
  },
  {
   "cell_type": "code",
   "execution_count": 14,
   "metadata": {
    "scrolled": true
   },
   "outputs": [
    {
     "name": "stdout",
     "output_type": "stream",
     "text": [
      "Train on 14400 samples, validate on 1600 samples\n",
      "Epoch 1/30\n",
      "14400/14400 [==============================] - 325s 23ms/sample - loss: 1.2993 - sparse_categorical_accuracy: 0.5009 - val_loss: 0.7016 - val_sparse_categorical_accuracy: 0.5000\n",
      "Epoch 2/30\n",
      "14400/14400 [==============================] - 337s 23ms/sample - loss: 0.7178 - sparse_categorical_accuracy: 0.5066 - val_loss: 0.7126 - val_sparse_categorical_accuracy: 0.5000\n",
      "Epoch 3/30\n",
      "14400/14400 [==============================] - 337s 23ms/sample - loss: 0.7077 - sparse_categorical_accuracy: 0.5138 - val_loss: 0.7011 - val_sparse_categorical_accuracy: 0.5000\n",
      "Epoch 4/30\n",
      "14400/14400 [==============================] - 329s 23ms/sample - loss: 0.7069 - sparse_categorical_accuracy: 0.5155 - val_loss: 0.6929 - val_sparse_categorical_accuracy: 0.5494\n",
      "Epoch 5/30\n",
      "14400/14400 [==============================] - 335s 23ms/sample - loss: 0.7048 - sparse_categorical_accuracy: 0.5162 - val_loss: 0.7139 - val_sparse_categorical_accuracy: 0.5000\n",
      "Epoch 6/30\n",
      "14400/14400 [==============================] - 324s 23ms/sample - loss: 0.6948 - sparse_categorical_accuracy: 0.5322 - val_loss: 0.6649 - val_sparse_categorical_accuracy: 0.6338\n",
      "Epoch 7/30\n",
      "14400/14400 [==============================] - 331s 23ms/sample - loss: 0.6748 - sparse_categorical_accuracy: 0.5944 - val_loss: 0.6293 - val_sparse_categorical_accuracy: 0.6731\n",
      "Epoch 8/30\n",
      "14400/14400 [==============================] - 321s 22ms/sample - loss: 0.6485 - sparse_categorical_accuracy: 0.6416 - val_loss: 0.6361 - val_sparse_categorical_accuracy: 0.6350\n",
      "Epoch 9/30\n",
      "14400/14400 [==============================] - 335s 23ms/sample - loss: 0.6195 - sparse_categorical_accuracy: 0.6732 - val_loss: 0.5737 - val_sparse_categorical_accuracy: 0.7262\n",
      "Epoch 10/30\n",
      "14400/14400 [==============================] - 326s 23ms/sample - loss: 0.5958 - sparse_categorical_accuracy: 0.7018 - val_loss: 0.5651 - val_sparse_categorical_accuracy: 0.7319\n",
      "Epoch 11/30\n",
      "14400/14400 [==============================] - 322s 22ms/sample - loss: 0.5814 - sparse_categorical_accuracy: 0.7088 - val_loss: 0.5812 - val_sparse_categorical_accuracy: 0.7088\n",
      "Epoch 12/30\n",
      "14400/14400 [==============================] - 331s 23ms/sample - loss: 0.5708 - sparse_categorical_accuracy: 0.7207 - val_loss: 0.5746 - val_sparse_categorical_accuracy: 0.7131\n",
      "Epoch 13/30\n",
      "14400/14400 [==============================] - 325s 23ms/sample - loss: 0.5637 - sparse_categorical_accuracy: 0.7247 - val_loss: 0.5587 - val_sparse_categorical_accuracy: 0.7350\n",
      "Epoch 14/30\n",
      "14400/14400 [==============================] - 314s 22ms/sample - loss: 0.5607 - sparse_categorical_accuracy: 0.7253 - val_loss: 0.5441 - val_sparse_categorical_accuracy: 0.7412\n",
      "Epoch 15/30\n",
      "14400/14400 [==============================] - 313s 22ms/sample - loss: 0.5538 - sparse_categorical_accuracy: 0.7297 - val_loss: 0.5508 - val_sparse_categorical_accuracy: 0.7431\n",
      "Epoch 16/30\n",
      "14400/14400 [==============================] - 313s 22ms/sample - loss: 0.5460 - sparse_categorical_accuracy: 0.7361 - val_loss: 0.5369 - val_sparse_categorical_accuracy: 0.7456\n",
      "Epoch 17/30\n",
      "14400/14400 [==============================] - 313s 22ms/sample - loss: 0.5391 - sparse_categorical_accuracy: 0.7367 - val_loss: 0.5540 - val_sparse_categorical_accuracy: 0.7362\n",
      "Epoch 18/30\n",
      "14400/14400 [==============================] - 313s 22ms/sample - loss: 0.5317 - sparse_categorical_accuracy: 0.7392 - val_loss: 0.5193 - val_sparse_categorical_accuracy: 0.7513\n",
      "Epoch 19/30\n",
      "14400/14400 [==============================] - 316s 22ms/sample - loss: 0.5236 - sparse_categorical_accuracy: 0.7469 - val_loss: 0.5640 - val_sparse_categorical_accuracy: 0.7269\n",
      "Epoch 20/30\n",
      "14400/14400 [==============================] - 313s 22ms/sample - loss: 0.5130 - sparse_categorical_accuracy: 0.7503 - val_loss: 0.5090 - val_sparse_categorical_accuracy: 0.7544\n",
      "Epoch 21/30\n",
      "14400/14400 [==============================] - 312s 22ms/sample - loss: 0.5069 - sparse_categorical_accuracy: 0.7536 - val_loss: 0.5131 - val_sparse_categorical_accuracy: 0.7494\n",
      "Epoch 22/30\n",
      "14400/14400 [==============================] - 312s 22ms/sample - loss: 0.5011 - sparse_categorical_accuracy: 0.7580 - val_loss: 0.5003 - val_sparse_categorical_accuracy: 0.7638\n",
      "Epoch 23/30\n",
      "14400/14400 [==============================] - 312s 22ms/sample - loss: 0.4982 - sparse_categorical_accuracy: 0.7571 - val_loss: 0.5099 - val_sparse_categorical_accuracy: 0.7525\n",
      "Epoch 24/30\n",
      "14400/14400 [==============================] - 313s 22ms/sample - loss: 0.4846 - sparse_categorical_accuracy: 0.7686 - val_loss: 0.4990 - val_sparse_categorical_accuracy: 0.7694\n",
      "Epoch 25/30\n",
      "14400/14400 [==============================] - 315s 22ms/sample - loss: 0.4830 - sparse_categorical_accuracy: 0.7693 - val_loss: 0.4956 - val_sparse_categorical_accuracy: 0.7725\n",
      "Epoch 26/30\n",
      "14400/14400 [==============================] - 317s 22ms/sample - loss: 0.4706 - sparse_categorical_accuracy: 0.7727 - val_loss: 0.5099 - val_sparse_categorical_accuracy: 0.7669\n",
      "Epoch 27/30\n",
      "14400/14400 [==============================] - 315s 22ms/sample - loss: 0.4695 - sparse_categorical_accuracy: 0.7740 - val_loss: 0.6287 - val_sparse_categorical_accuracy: 0.6875\n",
      "Epoch 28/30\n",
      "14400/14400 [==============================] - 316s 22ms/sample - loss: 0.4614 - sparse_categorical_accuracy: 0.7801 - val_loss: 0.4829 - val_sparse_categorical_accuracy: 0.7763\n",
      "Epoch 29/30\n",
      "14400/14400 [==============================] - 315s 22ms/sample - loss: 0.4538 - sparse_categorical_accuracy: 0.7842 - val_loss: 0.4807 - val_sparse_categorical_accuracy: 0.7663\n",
      "Epoch 30/30\n",
      "14400/14400 [==============================] - 315s 22ms/sample - loss: 0.4498 - sparse_categorical_accuracy: 0.7881 - val_loss: 0.4848 - val_sparse_categorical_accuracy: 0.7831\n"
     ]
    }
   ],
   "source": [
    "AlexNet_history = AlexNet.fit(X_train, y_train, epochs=30, \n",
    "                    validation_data=(X_validation, y_validation))"
   ]
  },
  {
   "cell_type": "code",
   "execution_count": 15,
   "metadata": {},
   "outputs": [
    {
     "name": "stdout",
     "output_type": "stream",
     "text": [
      "Train on 14400 samples, validate on 4000 samples\n",
      "Epoch 1/5\n",
      "14400/14400 [==============================] - 321s 22ms/sample - loss: 0.4382 - sparse_categorical_accuracy: 0.7926 - val_loss: 0.5076 - val_sparse_categorical_accuracy: 0.7667\n",
      "Epoch 2/5\n",
      "14400/14400 [==============================] - 324s 22ms/sample - loss: 0.4395 - sparse_categorical_accuracy: 0.7922 - val_loss: 0.4736 - val_sparse_categorical_accuracy: 0.7753\n",
      "Epoch 3/5\n",
      "14400/14400 [==============================] - 325s 23ms/sample - loss: 0.4267 - sparse_categorical_accuracy: 0.7999 - val_loss: 0.4578 - val_sparse_categorical_accuracy: 0.7878\n",
      "Epoch 4/5\n",
      "14400/14400 [==============================] - 321s 22ms/sample - loss: 0.4204 - sparse_categorical_accuracy: 0.8030 - val_loss: 0.4586 - val_sparse_categorical_accuracy: 0.7878\n",
      "Epoch 5/5\n",
      "14400/14400 [==============================] - 320s 22ms/sample - loss: 0.4104 - sparse_categorical_accuracy: 0.8122 - val_loss: 0.4962 - val_sparse_categorical_accuracy: 0.7678\n"
     ]
    }
   ],
   "source": [
    "AlexNet_history = AlexNet.fit(X_train, y_train, epochs=5, \n",
    "                    validation_data=(X_test, y_test))"
   ]
  },
  {
   "cell_type": "code",
   "execution_count": null,
   "metadata": {},
   "outputs": [],
   "source": []
  }
 ],
 "metadata": {
  "kernelspec": {
   "display_name": "Python 3",
   "language": "python",
   "name": "python3"
  },
  "language_info": {
   "codemirror_mode": {
    "name": "ipython",
    "version": 3
   },
   "file_extension": ".py",
   "mimetype": "text/x-python",
   "name": "python",
   "nbconvert_exporter": "python",
   "pygments_lexer": "ipython3",
   "version": "3.7.9"
  }
 },
 "nbformat": 4,
 "nbformat_minor": 4
}
