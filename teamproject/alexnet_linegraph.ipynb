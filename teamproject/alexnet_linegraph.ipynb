{
 "cells": [
  {
   "cell_type": "code",
   "execution_count": 1,
   "metadata": {},
   "outputs": [],
   "source": [
    "import tensorflow as tf \n",
    "from tensorflow import keras \n",
    "\n",
    "import numpy as np \n",
    "import matplotlib.pyplot as plt"
   ]
  },
  {
   "cell_type": "code",
   "execution_count": 2,
   "metadata": {},
   "outputs": [],
   "source": [
    "# 파일 불러오기\n",
    "import os, re, glob\n",
    "import cv2\n",
    "\n",
    "image_size = 32\n",
    "\n",
    "groups_folder_path = './IAAFT/LineGraph/'\n",
    "\n",
    "X = []\n",
    "y = []\n",
    "\n",
    "for label in ['Bi', 'Tri']:    \n",
    "    \n",
    "    for top, dir, f in os.walk(groups_folder_path+label+\"/\"):\n",
    "        for filename in f:\n",
    "            img = cv2.imread(groups_folder_path+label+\"/\"+filename)\n",
    "            img = cv2.resize(img, None, fx=image_size/img.shape[0], fy=image_size/img.shape[1])\n",
    "            X.append(img/256) \n",
    "\n",
    "            if label == 'Bi':\n",
    "                y.append(2)\n",
    "            else:\n",
    "                y.append(3)\n",
    "                \n",
    "X = np.array(X)\n",
    "y = np.array(y)"
   ]
  },
  {
   "cell_type": "code",
   "execution_count": 3,
   "metadata": {},
   "outputs": [],
   "source": [
    "# train, test split\n",
    "from sklearn.model_selection import train_test_split\n",
    "\n",
    "X_train, X_test, y_train, y_test = train_test_split(X, y, test_size=0.2, random_state=42, stratify=y)"
   ]
  },
  {
   "cell_type": "code",
   "execution_count": 4,
   "metadata": {},
   "outputs": [
    {
     "name": "stdout",
     "output_type": "stream",
     "text": [
      "(16000, 21, 48, 3)\n"
     ]
    }
   ],
   "source": [
    "print(X_train.shape)"
   ]
  },
  {
   "cell_type": "code",
   "execution_count": 5,
   "metadata": {},
   "outputs": [
    {
     "data": {
      "text/plain": [
       "Counter({3: 8000, 2: 8000})"
      ]
     },
     "execution_count": 5,
     "metadata": {},
     "output_type": "execute_result"
    }
   ],
   "source": [
    "import collections\n",
    "\n",
    "collections.Counter(y_train)"
   ]
  },
  {
   "cell_type": "code",
   "execution_count": 6,
   "metadata": {},
   "outputs": [],
   "source": [
    "# validation split\n",
    "\n",
    "X_train, X_validation, y_train, y_validation = train_test_split(X_train, y_train, test_size=0.1, random_state=10, stratify=y_train)"
   ]
  },
  {
   "cell_type": "code",
   "execution_count": 7,
   "metadata": {},
   "outputs": [
    {
     "name": "stdout",
     "output_type": "stream",
     "text": [
      "(14400, 21, 48, 3) (1600, 21, 48, 3)\n",
      "Counter({2: 7200, 3: 7200})\n"
     ]
    }
   ],
   "source": [
    "print(X_train.shape, X_validation.shape)\n",
    "print(collections.Counter(y_train))"
   ]
  },
  {
   "cell_type": "code",
   "execution_count": 8,
   "metadata": {},
   "outputs": [],
   "source": [
    "AlexNet = keras.models.Sequential([\n",
    "        keras.layers.Conv2D(256, (6, 6), activation='relu', input_shape=X_train[0].shape), \n",
    "        keras.layers.MaxPooling2D( (2, 2) ), \n",
    "        keras.layers.Conv2D(384, (3, 3), padding='same', activation='relu'), \n",
    "        keras.layers.Conv2D(384, (3, 3), padding='same', activation='relu'), \n",
    "        keras.layers.Conv2D(256, (3, 3), padding='same', activation='relu'), \n",
    "        keras.layers.MaxPooling2D( (2, 2) ), \n",
    "        keras.layers.Flatten(), \n",
    "        keras.layers.Dense(4096, activation='relu'), \n",
    "        keras.layers.Dense(4096, activation='relu'), \n",
    "        keras.layers.Dense(len(y_train), activation='softmax') \n",
    "])"
   ]
  },
  {
   "cell_type": "code",
   "execution_count": 9,
   "metadata": {},
   "outputs": [
    {
     "name": "stdout",
     "output_type": "stream",
     "text": [
      "Model: \"sequential\"\n",
      "_________________________________________________________________\n",
      "Layer (type)                 Output Shape              Param #   \n",
      "=================================================================\n",
      "conv2d (Conv2D)              (None, 16, 43, 256)       27904     \n",
      "_________________________________________________________________\n",
      "max_pooling2d (MaxPooling2D) (None, 8, 21, 256)        0         \n",
      "_________________________________________________________________\n",
      "conv2d_1 (Conv2D)            (None, 8, 21, 384)        885120    \n",
      "_________________________________________________________________\n",
      "conv2d_2 (Conv2D)            (None, 8, 21, 384)        1327488   \n",
      "_________________________________________________________________\n",
      "conv2d_3 (Conv2D)            (None, 8, 21, 256)        884992    \n",
      "_________________________________________________________________\n",
      "max_pooling2d_1 (MaxPooling2 (None, 4, 10, 256)        0         \n",
      "_________________________________________________________________\n",
      "flatten (Flatten)            (None, 10240)             0         \n",
      "_________________________________________________________________\n",
      "dense (Dense)                (None, 4096)              41947136  \n",
      "_________________________________________________________________\n",
      "dense_1 (Dense)              (None, 4096)              16781312  \n",
      "_________________________________________________________________\n",
      "dense_2 (Dense)              (None, 14400)             58996800  \n",
      "=================================================================\n",
      "Total params: 120,850,752\n",
      "Trainable params: 120,850,752\n",
      "Non-trainable params: 0\n",
      "_________________________________________________________________\n"
     ]
    }
   ],
   "source": [
    "AlexNet.summary()"
   ]
  },
  {
   "cell_type": "code",
   "execution_count": 10,
   "metadata": {},
   "outputs": [],
   "source": [
    "AlexNet.compile(loss=keras.losses.sparse_categorical_crossentropy, \n",
    "              optimizer=keras.optimizers.SGD(learning_rate=0.01), \n",
    "              metrics=[keras.metrics.sparse_categorical_accuracy])"
   ]
  },
  {
   "cell_type": "code",
   "execution_count": 11,
   "metadata": {},
   "outputs": [
    {
     "name": "stdout",
     "output_type": "stream",
     "text": [
      "Train on 14400 samples, validate on 1600 samples\n",
      "Epoch 1/30\n",
      "14400/14400 [==============================] - 344s 24ms/sample - loss: 1.4403 - sparse_categorical_accuracy: 0.4945 - val_loss: 0.7136 - val_sparse_categorical_accuracy: 0.5000\n",
      "Epoch 2/30\n",
      "14400/14400 [==============================] - 348s 24ms/sample - loss: 0.7141 - sparse_categorical_accuracy: 0.4994 - val_loss: 0.6973 - val_sparse_categorical_accuracy: 0.5000\n",
      "Epoch 3/30\n",
      "14400/14400 [==============================] - 347s 24ms/sample - loss: 0.7115 - sparse_categorical_accuracy: 0.5016 - val_loss: 0.6953 - val_sparse_categorical_accuracy: 0.5000\n",
      "Epoch 4/30\n",
      "14400/14400 [==============================] - 347s 24ms/sample - loss: 0.7080 - sparse_categorical_accuracy: 0.5083 - val_loss: 0.6947 - val_sparse_categorical_accuracy: 0.5000\n",
      "Epoch 5/30\n",
      "14400/14400 [==============================] - 347s 24ms/sample - loss: 0.7039 - sparse_categorical_accuracy: 0.5135 - val_loss: 0.6887 - val_sparse_categorical_accuracy: 0.5031\n",
      "Epoch 6/30\n",
      "14400/14400 [==============================] - 347s 24ms/sample - loss: 0.6955 - sparse_categorical_accuracy: 0.5383 - val_loss: 0.6590 - val_sparse_categorical_accuracy: 0.8344\n",
      "Epoch 7/30\n",
      "14400/14400 [==============================] - 347s 24ms/sample - loss: 0.9086 - sparse_categorical_accuracy: 0.5345 - val_loss: 0.6935 - val_sparse_categorical_accuracy: 0.5000\n",
      "Epoch 8/30\n",
      "14400/14400 [==============================] - 347s 24ms/sample - loss: 0.7053 - sparse_categorical_accuracy: 0.4990 - val_loss: 0.6930 - val_sparse_categorical_accuracy: 0.5000\n",
      "Epoch 9/30\n",
      "14400/14400 [==============================] - 347s 24ms/sample - loss: 0.7018 - sparse_categorical_accuracy: 0.4973 - val_loss: 0.6940 - val_sparse_categorical_accuracy: 0.5000\n",
      "Epoch 10/30\n",
      "14400/14400 [==============================] - 347s 24ms/sample - loss: 0.7010 - sparse_categorical_accuracy: 0.4992 - val_loss: 0.7018 - val_sparse_categorical_accuracy: 0.5000\n",
      "Epoch 11/30\n",
      "14400/14400 [==============================] - 347s 24ms/sample - loss: 0.6956 - sparse_categorical_accuracy: 0.5154 - val_loss: 0.6755 - val_sparse_categorical_accuracy: 0.5294\n",
      "Epoch 12/30\n",
      "14400/14400 [==============================] - 347s 24ms/sample - loss: 0.7163 - sparse_categorical_accuracy: 0.5832 - val_loss: 0.6615 - val_sparse_categorical_accuracy: 0.5000\n",
      "Epoch 13/30\n",
      "14400/14400 [==============================] - 348s 24ms/sample - loss: 0.6489 - sparse_categorical_accuracy: 0.6966 - val_loss: 0.2288 - val_sparse_categorical_accuracy: 0.9212\n",
      "Epoch 14/30\n",
      "14400/14400 [==============================] - 347s 24ms/sample - loss: 0.4723 - sparse_categorical_accuracy: 0.7862 - val_loss: 0.5096 - val_sparse_categorical_accuracy: 0.6812\n",
      "Epoch 15/30\n",
      "14400/14400 [==============================] - 348s 24ms/sample - loss: 0.0801 - sparse_categorical_accuracy: 0.9714 - val_loss: 0.0190 - val_sparse_categorical_accuracy: 0.9956\n",
      "Epoch 16/30\n",
      "14400/14400 [==============================] - 348s 24ms/sample - loss: 0.0263 - sparse_categorical_accuracy: 0.9910 - val_loss: 0.0135 - val_sparse_categorical_accuracy: 0.9956\n",
      "Epoch 17/30\n",
      "14400/14400 [==============================] - 349s 24ms/sample - loss: 0.0209 - sparse_categorical_accuracy: 0.9931 - val_loss: 0.0078 - val_sparse_categorical_accuracy: 0.9987\n",
      "Epoch 18/30\n",
      "14400/14400 [==============================] - 348s 24ms/sample - loss: 0.1176 - sparse_categorical_accuracy: 0.9582 - val_loss: 0.0108 - val_sparse_categorical_accuracy: 0.9975\n",
      "Epoch 19/30\n",
      "14400/14400 [==============================] - 350s 24ms/sample - loss: 0.0194 - sparse_categorical_accuracy: 0.9936 - val_loss: 0.0060 - val_sparse_categorical_accuracy: 0.9994\n",
      "Epoch 20/30\n",
      "14400/14400 [==============================] - 348s 24ms/sample - loss: 0.0172 - sparse_categorical_accuracy: 0.9943 - val_loss: 0.0216 - val_sparse_categorical_accuracy: 0.9925\n",
      "Epoch 21/30\n",
      "14400/14400 [==============================] - 349s 24ms/sample - loss: 0.0154 - sparse_categorical_accuracy: 0.9953 - val_loss: 0.0069 - val_sparse_categorical_accuracy: 0.9987\n",
      "Epoch 22/30\n",
      "14400/14400 [==============================] - 348s 24ms/sample - loss: 0.0123 - sparse_categorical_accuracy: 0.9960 - val_loss: 0.0034 - val_sparse_categorical_accuracy: 0.9987\n",
      "Epoch 23/30\n",
      "14400/14400 [==============================] - 349s 24ms/sample - loss: 0.0155 - sparse_categorical_accuracy: 0.9946 - val_loss: 0.0045 - val_sparse_categorical_accuracy: 0.9987\n",
      "Epoch 24/30\n",
      "14400/14400 [==============================] - 348s 24ms/sample - loss: 0.0086 - sparse_categorical_accuracy: 0.9974 - val_loss: 0.0025 - val_sparse_categorical_accuracy: 0.9987\n",
      "Epoch 25/30\n",
      "14400/14400 [==============================] - 348s 24ms/sample - loss: 0.0103 - sparse_categorical_accuracy: 0.9967 - val_loss: 0.0039 - val_sparse_categorical_accuracy: 0.9994\n",
      "Epoch 26/30\n",
      "14400/14400 [==============================] - 348s 24ms/sample - loss: 0.0118 - sparse_categorical_accuracy: 0.9954 - val_loss: 0.0036 - val_sparse_categorical_accuracy: 0.9987\n",
      "Epoch 27/30\n",
      "14400/14400 [==============================] - 348s 24ms/sample - loss: 0.0099 - sparse_categorical_accuracy: 0.9967 - val_loss: 0.0197 - val_sparse_categorical_accuracy: 0.9956\n",
      "Epoch 28/30\n",
      "14400/14400 [==============================] - 348s 24ms/sample - loss: 0.0438 - sparse_categorical_accuracy: 0.9890 - val_loss: 0.0147 - val_sparse_categorical_accuracy: 0.9981\n",
      "Epoch 29/30\n",
      "14400/14400 [==============================] - 349s 24ms/sample - loss: 0.0070 - sparse_categorical_accuracy: 0.9978 - val_loss: 0.0042 - val_sparse_categorical_accuracy: 0.9987\n",
      "Epoch 30/30\n",
      "14400/14400 [==============================] - 349s 24ms/sample - loss: 0.0070 - sparse_categorical_accuracy: 0.9978 - val_loss: 0.0026 - val_sparse_categorical_accuracy: 0.9987\n"
     ]
    }
   ],
   "source": [
    "AlexNet_history = AlexNet.fit(X_train, y_train, epochs=30, \n",
    "                    validation_data=(X_validation, y_validation))"
   ]
  },
  {
   "cell_type": "code",
   "execution_count": 12,
   "metadata": {},
   "outputs": [
    {
     "name": "stdout",
     "output_type": "stream",
     "text": [
      "Train on 14400 samples, validate on 4000 samples\n",
      "Epoch 1/5\n",
      "14400/14400 [==============================] - 356s 25ms/sample - loss: 0.0070 - sparse_categorical_accuracy: 0.9978 - val_loss: 0.0077 - val_sparse_categorical_accuracy: 0.9983\n",
      "Epoch 2/5\n",
      "14400/14400 [==============================] - 357s 25ms/sample - loss: 0.0084 - sparse_categorical_accuracy: 0.9970 - val_loss: 0.0095 - val_sparse_categorical_accuracy: 0.9965\n",
      "Epoch 3/5\n",
      "14400/14400 [==============================] - 356s 25ms/sample - loss: 0.0050 - sparse_categorical_accuracy: 0.9981 - val_loss: 0.0064 - val_sparse_categorical_accuracy: 0.9983\n",
      "Epoch 4/5\n",
      "14400/14400 [==============================] - 356s 25ms/sample - loss: 0.0059 - sparse_categorical_accuracy: 0.9981 - val_loss: 0.0059 - val_sparse_categorical_accuracy: 0.9985\n",
      "Epoch 5/5\n",
      "14400/14400 [==============================] - 356s 25ms/sample - loss: 0.0058 - sparse_categorical_accuracy: 0.9981 - val_loss: 0.0101 - val_sparse_categorical_accuracy: 0.9973\n"
     ]
    }
   ],
   "source": [
    "AlexNet_history = AlexNet.fit(X_train, y_train, epochs=5, \n",
    "                    validation_data=(X_test, y_test))"
   ]
  },
  {
   "cell_type": "code",
   "execution_count": null,
   "metadata": {},
   "outputs": [],
   "source": []
  }
 ],
 "metadata": {
  "kernelspec": {
   "display_name": "Python 3",
   "language": "python",
   "name": "python3"
  },
  "language_info": {
   "codemirror_mode": {
    "name": "ipython",
    "version": 3
   },
   "file_extension": ".py",
   "mimetype": "text/x-python",
   "name": "python",
   "nbconvert_exporter": "python",
   "pygments_lexer": "ipython3",
   "version": "3.7.9"
  }
 },
 "nbformat": 4,
 "nbformat_minor": 4
}
