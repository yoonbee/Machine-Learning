{
 "cells": [
  {
   "cell_type": "code",
   "execution_count": null,
   "metadata": {},
   "outputs": [
    {
     "name": "stdout",
     "output_type": "stream",
     "text": [
      "['dataset/bi\\\\Humble1205_2058_29.txt', 'dataset/bi\\\\Humble1205_2058_32.txt', 'dataset/bi\\\\Humble1205_2058_34.txt', 'dataset/bi\\\\Humble1205_2058_36.txt', 'dataset/bi\\\\Humble1205_2058_39.txt', 'dataset/bi\\\\Humble1205_2058_41.txt', 'dataset/bi\\\\Humble1205_2106_24.txt', 'dataset/bi\\\\Humble1205_2106_26.txt', 'dataset/bi\\\\Humble1205_2106_29.txt', 'dataset/bi\\\\Humble1205_2106_31.txt', 'dataset/bi\\\\Humble1205_2106_34.txt', 'dataset/bi\\\\Humble1205_2106_36.txt', 'dataset/bi\\\\Humble1205_2106_38.txt', 'dataset/bi\\\\Humble1205_2106_41.txt', 'dataset/bi\\\\Humble1205_2106_43.txt', 'dataset/bi\\\\Humble1205_2106_46.txt', 'dataset/bi\\\\Humble1205_2115_00.txt', 'dataset/bi\\\\Humble1205_2115_02.txt', 'dataset/bi\\\\Humble1205_2115_04.txt', 'dataset/bi\\\\Humble1205_2115_07.txt', 'dataset/bi\\\\Humble1205_2115_09.txt', 'dataset/bi\\\\Humble1205_2115_11.txt', 'dataset/bi\\\\Humble1205_2115_14.txt', 'dataset/bi\\\\Humble1205_2115_16.txt', 'dataset/bi\\\\Humble1205_2115_19.txt', 'dataset/bi\\\\Humble1205_2115_21.txt', 'dataset/bi\\\\Humble1205_2115_23.txt', 'dataset/bi\\\\Humble1205_2115_27.txt', 'dataset/bi\\\\Humble1205_2115_30.txt', 'dataset/bi\\\\Humble1205_2115_32.txt', 'dataset/bi\\\\Humble1205_2120_35.txt', 'dataset/bi\\\\Humble1205_2120_38.txt', 'dataset/bi\\\\Humble1205_2120_40.txt', 'dataset/bi\\\\Humble1205_2120_42.txt', 'dataset/bi\\\\Humble1205_2120_45.txt', 'dataset/bi\\\\Humble1205_2120_47.txt', 'dataset/bi\\\\Humble1205_2120_52.txt', 'dataset/bi\\\\Humble1205_2120_55.txt', 'dataset/bi\\\\Humble1205_2126_42.txt', 'dataset/bi\\\\Humble1205_2126_45.txt', 'dataset/bi\\\\Humble1205_2126_47.txt', 'dataset/bi\\\\Humble1205_2126_49.txt', 'dataset/bi\\\\Humble1205_2126_51.txt', 'dataset/bi\\\\Humble1205_2126_54.txt', 'dataset/bi\\\\Humble1205_2126_56.txt', 'dataset/bi\\\\Humble1205_2126_59.txt', 'dataset/bi\\\\Humble1205_2127_01.txt', 'dataset/bi\\\\Humble1205_2131_57.txt', 'dataset/bi\\\\Humble1205_2131_59.txt', 'dataset/bi\\\\Humble1205_2132_02.txt', 'dataset/bi\\\\Humble1205_2132_04.txt', 'dataset/bi\\\\Humble1205_2132_07.txt', 'dataset/bi\\\\Humble1205_2132_09.txt', 'dataset/bi\\\\Humble1205_2132_11.txt', 'dataset/bi\\\\Humble1205_2132_14.txt', 'dataset/bi\\\\Humble1205_2132_16.txt', 'dataset/bi\\\\Humble1205_2135_36.txt', 'dataset/bi\\\\Humble1205_2135_38.txt', 'dataset/bi\\\\Humble1205_2135_40.txt', 'dataset/bi\\\\Humble1205_2135_43.txt', 'dataset/bi\\\\Humble1205_2135_45.txt', 'dataset/bi\\\\Humble1205_2135_48.txt', 'dataset/bi\\\\Humble1205_2135_50.txt', 'dataset/bi\\\\Humble1205_2146_09.txt', 'dataset/bi\\\\Humble1205_2146_11.txt', 'dataset/bi\\\\Humble1205_2146_13.txt', 'dataset/bi\\\\Humble1205_2146_16.txt', 'dataset/bi\\\\Humble1205_2146_18.txt', 'dataset/bi\\\\Humble1205_2146_20.txt', 'dataset/bi\\\\Humble1205_2146_23.txt', 'dataset/bi\\\\Humble1205_2146_25.txt', 'dataset/bi\\\\Humble1205_2149_10.txt', 'dataset/bi\\\\Humble1205_2149_13.txt', 'dataset/bi\\\\Humble1205_2149_15.txt', 'dataset/bi\\\\Humble1205_2149_17.txt', 'dataset/bi\\\\Humble1205_2149_20.txt', 'dataset/bi\\\\Humble1205_2149_22.txt', 'dataset/bi\\\\Humble1205_2149_24.txt', 'dataset/bi\\\\Humble1205_2149_27.txt', 'dataset/bi\\\\Humble1205_2149_29.txt', 'dataset/bi\\\\Humble1205_2153_03.txt', 'dataset/bi\\\\Humble1205_2153_06.txt', 'dataset/bi\\\\Humble1205_2153_08.txt', 'dataset/bi\\\\Humble1205_2153_10.txt', 'dataset/bi\\\\Humble1205_2153_14.txt', 'dataset/bi\\\\Humble1205_2153_17.txt', 'dataset/bi\\\\Humble1205_2153_19.txt', 'dataset/bi\\\\Humble1205_2153_22.txt', 'dataset/bi\\\\Humble1205_2153_24.txt', 'dataset/bi\\\\Humble1205_2153_26.txt', 'dataset/bi\\\\Humble1205_2156_12.txt', 'dataset/bi\\\\Humble1205_2156_14.txt', 'dataset/bi\\\\Humble1205_2156_19.txt', 'dataset/bi\\\\Humble1205_2156_22.txt', 'dataset/bi\\\\Humble1205_2156_24.txt', 'dataset/bi\\\\Humble1205_2156_27.txt', 'dataset/bi\\\\Humble1205_2156_29.txt', 'dataset/bi\\\\Humble1205_2201_25.txt', 'dataset/bi\\\\Humble1205_2201_28.txt', 'dataset/bi\\\\Humble1205_2201_30.txt']\n"
     ]
    }
   ],
   "source": [
    "\n",
    "import os\n",
    "from pyunicorn.timeseries.surrogates import Surrogates\n",
    "import numpy as np\n",
    "import pandas as pd\n",
    "import matplotlib.pyplot as plt\n",
    "\n",
    "np.seterr(invalid='ignore')\n",
    "\n",
    "for root, dirs, files in os.walk('dataset/bi'):\n",
    "    filename = []\n",
    "    for fname in files:\n",
    "        full_fname = os.path.join(root, fname)\n",
    "        filename.append(full_fname)    \n",
    "\n",
    "print(filename)\n",
    "number = 0\n",
    "\n",
    "for index, fn in enumerate(filename):    \n",
    "    \n",
    "    with open(fn) as file:\n",
    "        \n",
    "        sp = []\n",
    "        row = []        \n",
    "\n",
    "        for line in file:\n",
    "            sp = line.rstrip().split('\\t')\n",
    "            \n",
    "            if sp[0]=='' or sp[0] ==\"\\n\":\n",
    "                pass\n",
    "            else:\n",
    "                row.append(list(map(float, sp[:3])))      \n",
    "            \n",
    "\n",
    "        t = []\n",
    "        data1 = []\n",
    "        data2 = []\n",
    "\n",
    "        for r in np.array(row):\n",
    "            t.append(r[0])\n",
    "            data1.append(r[1])\n",
    "            data2.append(r[2])\n",
    "\n",
    "        td = np.array([])\n",
    "        td = np.append(td, t, axis=0)\n",
    "        td = np.vstack([td, data1])\n",
    "        td = np.vstack([td, data2])\n",
    "        \n",
    "        #AAFT\n",
    "        #d = Surrogates(original_data=td, silence_level=2).AAFT_surrogates(td)\n",
    "\n",
    "        #IAAFT\n",
    "        #d = Surrogates(original_data=td, silence_level=2).refined_AAFT_surrogates(td,100)\n",
    "\n",
    "        for i in range(100):            \n",
    "            \n",
    "            #IAAFT\n",
    "            d = Surrogates(original_data=td, silence_level=2).refined_AAFT_surrogates(td,100)\n",
    "\n",
    "            rms = d[1]\n",
    "            angle = d[2]\n",
    "\n",
    "            count = len(rms)\n",
    "\n",
    "            tIndex = np.linspace(0, count/10, count)\n",
    "\n",
    "            plt.plot(tIndex, rms, tIndex, angle, 'r-')\n",
    "            plt.axis('off')\n",
    "            plt.tick_params(axis='both', left='off', top='off', right='off', bottom='off', labelleft='off', labeltop='off', labelright='off', labelbottom='off')\n",
    "            plt.savefig('IAAFT\\LineGraph\\Bi\\linegraph_' + str(index * 100 + i) + '.png', pad_inches=0)\n",
    "            plt.cla()\n",
    "            \n",
    "        \n",
    "        \n",
    "    \n",
    "        "
   ]
  },
  {
   "cell_type": "code",
   "execution_count": null,
   "metadata": {},
   "outputs": [],
   "source": []
  }
 ],
 "metadata": {
  "kernelspec": {
   "display_name": "Python 3",
   "language": "python",
   "name": "python3"
  },
  "language_info": {
   "codemirror_mode": {
    "name": "ipython",
    "version": 3
   },
   "file_extension": ".py",
   "mimetype": "text/x-python",
   "name": "python",
   "nbconvert_exporter": "python",
   "pygments_lexer": "ipython3",
   "version": "3.7.9"
  }
 },
 "nbformat": 4,
 "nbformat_minor": 4
}
