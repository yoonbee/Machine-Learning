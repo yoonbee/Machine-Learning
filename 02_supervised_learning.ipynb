{
  "nbformat": 4,
  "nbformat_minor": 0,
  "metadata": {
    "colab": {
      "name": "02.supervised learning.ipynb",
      "provenance": []
    },
    "kernelspec": {
      "name": "python3",
      "display_name": "Python 3"
    }
  },
  "cells": [
    {
      "cell_type": "code",
      "metadata": {
        "id": "nbk-2ZOfpOGw",
        "outputId": "d410ffe9-67d7-4d72-8631-277a9fc8d06f",
        "colab": {
          "base_uri": "https://localhost:8080/",
          "height": 459
        }
      },
      "source": [
        "pip install mglearn"
      ],
      "execution_count": 2,
      "outputs": [
        {
          "output_type": "stream",
          "text": [
            "Collecting mglearn\n",
            "\u001b[?25l  Downloading https://files.pythonhosted.org/packages/65/38/8aced26fce0b2ae82c3c87cd3b6105f38ca6d9d51704ecc44aa54473e6b9/mglearn-0.1.9.tar.gz (540kB)\n",
            "\r\u001b[K     |▋                               | 10kB 15.8MB/s eta 0:00:01\r\u001b[K     |█▏                              | 20kB 1.8MB/s eta 0:00:01\r\u001b[K     |█▉                              | 30kB 2.2MB/s eta 0:00:01\r\u001b[K     |██▍                             | 40kB 2.5MB/s eta 0:00:01\r\u001b[K     |███                             | 51kB 2.0MB/s eta 0:00:01\r\u001b[K     |███▋                            | 61kB 2.2MB/s eta 0:00:01\r\u001b[K     |████▎                           | 71kB 2.5MB/s eta 0:00:01\r\u001b[K     |████▉                           | 81kB 2.7MB/s eta 0:00:01\r\u001b[K     |█████▌                          | 92kB 2.9MB/s eta 0:00:01\r\u001b[K     |██████                          | 102kB 2.8MB/s eta 0:00:01\r\u001b[K     |██████▊                         | 112kB 2.8MB/s eta 0:00:01\r\u001b[K     |███████▎                        | 122kB 2.8MB/s eta 0:00:01\r\u001b[K     |███████▉                        | 133kB 2.8MB/s eta 0:00:01\r\u001b[K     |████████▌                       | 143kB 2.8MB/s eta 0:00:01\r\u001b[K     |█████████                       | 153kB 2.8MB/s eta 0:00:01\r\u001b[K     |█████████▊                      | 163kB 2.8MB/s eta 0:00:01\r\u001b[K     |██████████▎                     | 174kB 2.8MB/s eta 0:00:01\r\u001b[K     |███████████                     | 184kB 2.8MB/s eta 0:00:01\r\u001b[K     |███████████▌                    | 194kB 2.8MB/s eta 0:00:01\r\u001b[K     |████████████▏                   | 204kB 2.8MB/s eta 0:00:01\r\u001b[K     |████████████▊                   | 215kB 2.8MB/s eta 0:00:01\r\u001b[K     |█████████████▍                  | 225kB 2.8MB/s eta 0:00:01\r\u001b[K     |██████████████                  | 235kB 2.8MB/s eta 0:00:01\r\u001b[K     |██████████████▋                 | 245kB 2.8MB/s eta 0:00:01\r\u001b[K     |███████████████▏                | 256kB 2.8MB/s eta 0:00:01\r\u001b[K     |███████████████▊                | 266kB 2.8MB/s eta 0:00:01\r\u001b[K     |████████████████▍               | 276kB 2.8MB/s eta 0:00:01\r\u001b[K     |█████████████████               | 286kB 2.8MB/s eta 0:00:01\r\u001b[K     |█████████████████▋              | 296kB 2.8MB/s eta 0:00:01\r\u001b[K     |██████████████████▏             | 307kB 2.8MB/s eta 0:00:01\r\u001b[K     |██████████████████▉             | 317kB 2.8MB/s eta 0:00:01\r\u001b[K     |███████████████████▍            | 327kB 2.8MB/s eta 0:00:01\r\u001b[K     |████████████████████            | 337kB 2.8MB/s eta 0:00:01\r\u001b[K     |████████████████████▋           | 348kB 2.8MB/s eta 0:00:01\r\u001b[K     |█████████████████████▎          | 358kB 2.8MB/s eta 0:00:01\r\u001b[K     |█████████████████████▉          | 368kB 2.8MB/s eta 0:00:01\r\u001b[K     |██████████████████████▌         | 378kB 2.8MB/s eta 0:00:01\r\u001b[K     |███████████████████████         | 389kB 2.8MB/s eta 0:00:01\r\u001b[K     |███████████████████████▋        | 399kB 2.8MB/s eta 0:00:01\r\u001b[K     |████████████████████████▎       | 409kB 2.8MB/s eta 0:00:01\r\u001b[K     |████████████████████████▉       | 419kB 2.8MB/s eta 0:00:01\r\u001b[K     |█████████████████████████▌      | 430kB 2.8MB/s eta 0:00:01\r\u001b[K     |██████████████████████████      | 440kB 2.8MB/s eta 0:00:01\r\u001b[K     |██████████████████████████▊     | 450kB 2.8MB/s eta 0:00:01\r\u001b[K     |███████████████████████████▎    | 460kB 2.8MB/s eta 0:00:01\r\u001b[K     |████████████████████████████    | 471kB 2.8MB/s eta 0:00:01\r\u001b[K     |████████████████████████████▌   | 481kB 2.8MB/s eta 0:00:01\r\u001b[K     |█████████████████████████████▏  | 491kB 2.8MB/s eta 0:00:01\r\u001b[K     |█████████████████████████████▊  | 501kB 2.8MB/s eta 0:00:01\r\u001b[K     |██████████████████████████████▍ | 512kB 2.8MB/s eta 0:00:01\r\u001b[K     |███████████████████████████████ | 522kB 2.8MB/s eta 0:00:01\r\u001b[K     |███████████████████████████████▌| 532kB 2.8MB/s eta 0:00:01\r\u001b[K     |████████████████████████████████| 542kB 2.8MB/s \n",
            "\u001b[?25hRequirement already satisfied: numpy in /usr/local/lib/python3.6/dist-packages (from mglearn) (1.18.5)\n",
            "Requirement already satisfied: matplotlib in /usr/local/lib/python3.6/dist-packages (from mglearn) (3.2.2)\n",
            "Requirement already satisfied: scikit-learn in /usr/local/lib/python3.6/dist-packages (from mglearn) (0.22.2.post1)\n",
            "Requirement already satisfied: pandas in /usr/local/lib/python3.6/dist-packages (from mglearn) (1.1.2)\n",
            "Requirement already satisfied: pillow in /usr/local/lib/python3.6/dist-packages (from mglearn) (7.0.0)\n",
            "Requirement already satisfied: cycler in /usr/local/lib/python3.6/dist-packages (from mglearn) (0.10.0)\n",
            "Requirement already satisfied: imageio in /usr/local/lib/python3.6/dist-packages (from mglearn) (2.4.1)\n",
            "Requirement already satisfied: joblib in /usr/local/lib/python3.6/dist-packages (from mglearn) (0.16.0)\n",
            "Requirement already satisfied: pyparsing!=2.0.4,!=2.1.2,!=2.1.6,>=2.0.1 in /usr/local/lib/python3.6/dist-packages (from matplotlib->mglearn) (2.4.7)\n",
            "Requirement already satisfied: kiwisolver>=1.0.1 in /usr/local/lib/python3.6/dist-packages (from matplotlib->mglearn) (1.2.0)\n",
            "Requirement already satisfied: python-dateutil>=2.1 in /usr/local/lib/python3.6/dist-packages (from matplotlib->mglearn) (2.8.1)\n",
            "Requirement already satisfied: scipy>=0.17.0 in /usr/local/lib/python3.6/dist-packages (from scikit-learn->mglearn) (1.4.1)\n",
            "Requirement already satisfied: pytz>=2017.2 in /usr/local/lib/python3.6/dist-packages (from pandas->mglearn) (2018.9)\n",
            "Requirement already satisfied: six in /usr/local/lib/python3.6/dist-packages (from cycler->mglearn) (1.15.0)\n",
            "Building wheels for collected packages: mglearn\n",
            "  Building wheel for mglearn (setup.py) ... \u001b[?25l\u001b[?25hdone\n",
            "  Created wheel for mglearn: filename=mglearn-0.1.9-py2.py3-none-any.whl size=582639 sha256=ae789cc2124a94d8c4fab30ef37fbda0b6727efdb2f44e33d84badf88cce5e68\n",
            "  Stored in directory: /root/.cache/pip/wheels/eb/a6/ea/a6a3716233fa62fc561259b5cb1e28f79e9ff3592c0adac5f0\n",
            "Successfully built mglearn\n",
            "Installing collected packages: mglearn\n",
            "Successfully installed mglearn-0.1.9\n"
          ],
          "name": "stdout"
        }
      ]
    },
    {
      "cell_type": "code",
      "metadata": {
        "id": "7x8oArWbkqs4",
        "outputId": "c07cf872-3f16-4268-a8a8-99822c664c17",
        "colab": {
          "base_uri": "https://localhost:8080/",
          "height": 334
        }
      },
      "source": [
        "import matplotlib.pyplot as plt\n",
        "import mglearn\n",
        "\n",
        "X_forge, y_forge = mglearn.datasets.make_forge()\n",
        "\n",
        "mglearn.discrete_scatter(X_forge[:, 0], X_forge[:, 1], y_forge)\n",
        "plt.legend([\"class 0\", \"class 1\"], loc=4)\n",
        "plt.xlabel(\"feature 1\")\n",
        "plt.ylabel(\"feature 2\")\n",
        "plt.show()"
      ],
      "execution_count": 6,
      "outputs": [
        {
          "output_type": "stream",
          "text": [
            "/usr/local/lib/python3.6/dist-packages/sklearn/utils/deprecation.py:87: FutureWarning: Function make_blobs is deprecated; Please import make_blobs directly from scikit-learn\n",
            "  warnings.warn(msg, category=FutureWarning)\n"
          ],
          "name": "stderr"
        },
        {
          "output_type": "display_data",
          "data": {
            "image/png": "[encoded data removed]",
            "text/plain": [
              "<Figure size 432x288 with 1 Axes>"
            ]
          },
          "metadata": {
            "tags": [],
            "needs_background": "light"
          }
        }
      ]
    },
    {
      "cell_type": "code",
      "metadata": {
        "id": "TdCDRgk8pG7P",
        "outputId": "5506b9f8-3b49-4cac-9481-0e53c79f2eb7",
        "colab": {
          "base_uri": "https://localhost:8080/",
          "height": 283
        }
      },
      "source": [
        "import matplotlib.pyplot as plt\n",
        "import mglearn\n",
        "\n",
        "X_wave, y_wave = mglearn.datasets.make_wave(n_samples=40)\n",
        "\n",
        "plt.plot(X_wave, y_wave, 'o')\n",
        "plt.ylim(-3, 3)\n",
        "plt.xlabel(\"feature\")\n",
        "plt.ylabel(\"target\")\n",
        "plt.show()"
      ],
      "execution_count": 7,
      "outputs": [
        {
          "output_type": "display_data",
          "data": {
            "image/png": "[encoded data removed]",
            "text/plain": [
              "<Figure size 432x288 with 1 Axes>"
            ]
          },
          "metadata": {
            "tags": [],
            "needs_background": "light"
          }
        }
      ]
    },
    {
      "cell_type": "code",
      "metadata": {
        "id": "QgWHDtlnqs2I"
      },
      "source": [
        "import numpy as np\n",
        "from sklearn import datasets\n",
        "\n",
        "cancer = datasets.load_breast_cancer()"
      ],
      "execution_count": 8,
      "outputs": []
    },
    {
      "cell_type": "code",
      "metadata": {
        "id": "kz9OQrdPr44g"
      },
      "source": [
        "from sklearn import datasets\n",
        "\n",
        "boston = datasets.load_boston()"
      ],
      "execution_count": 10,
      "outputs": []
    },
    {
      "cell_type": "code",
      "metadata": {
        "id": "OkAxEsbVszG3",
        "outputId": "d2f910cf-0ee7-4b53-943d-5351214e389b",
        "colab": {
          "base_uri": "https://localhost:8080/",
          "height": 320
        }
      },
      "source": [
        "mglearn.plots.plot_knn_classification(n_neighbors=3)\n",
        "plt.show()"
      ],
      "execution_count": 12,
      "outputs": [
        {
          "output_type": "stream",
          "text": [
            "/usr/local/lib/python3.6/dist-packages/sklearn/utils/deprecation.py:87: FutureWarning: Function make_blobs is deprecated; Please import make_blobs directly from scikit-learn\n",
            "  warnings.warn(msg, category=FutureWarning)\n"
          ],
          "name": "stderr"
        },
        {
          "output_type": "display_data",
          "data": {
            "image/png": "[encoded data removed]",
            "text/plain": [
              "<Figure size 432x288 with 1 Axes>"
            ]
          },
          "metadata": {
            "tags": [],
            "needs_background": "light"
          }
        }
      ]
    },
    {
      "cell_type": "code",
      "metadata": {
        "id": "KAjwQJ3fuEg9",
        "outputId": "23c28785-d719-4c9f-89da-fad222393521",
        "colab": {
          "base_uri": "https://localhost:8080/",
          "height": 125
        }
      },
      "source": [
        "import matplotlib.pyplot as plt\n",
        "from sklearn.model_selection import train_test_split\n",
        "from sklearn.neighbors import KNeighborsClassifier\n",
        "import mglearn\n",
        "\n",
        "X_forge, y_forge = mglearn.datasets.make_forge()\n",
        "\n",
        "X_forge_train, X_forge_test, y_forge_train, y_forge_test = train_test_split(X_forge, y_forge, random_state=0)\n",
        "knn_clf = KNeighborsClassifier(n_neighbors=3)\n",
        "knn_clf.fit(X_forge_train, y_forge_train)"
      ],
      "execution_count": 13,
      "outputs": [
        {
          "output_type": "stream",
          "text": [
            "/usr/local/lib/python3.6/dist-packages/sklearn/utils/deprecation.py:87: FutureWarning: Function make_blobs is deprecated; Please import make_blobs directly from scikit-learn\n",
            "  warnings.warn(msg, category=FutureWarning)\n"
          ],
          "name": "stderr"
        },
        {
          "output_type": "execute_result",
          "data": {
            "text/plain": [
              "KNeighborsClassifier(algorithm='auto', leaf_size=30, metric='minkowski',\n",
              "                     metric_params=None, n_jobs=None, n_neighbors=3, p=2,\n",
              "                     weights='uniform')"
            ]
          },
          "metadata": {
            "tags": []
          },
          "execution_count": 13
        }
      ]
    },
    {
      "cell_type": "code",
      "metadata": {
        "id": "dAuuTzKOvH04",
        "outputId": "1cf727a2-ee09-4fe9-d22b-065fd85991ad",
        "colab": {
          "base_uri": "https://localhost:8080/",
          "height": 34
        }
      },
      "source": [
        "print(knn_clf.score(X_forge_test, y_forge_test))"
      ],
      "execution_count": 14,
      "outputs": [
        {
          "output_type": "stream",
          "text": [
            "0.8571428571428571\n"
          ],
          "name": "stdout"
        }
      ]
    },
    {
      "cell_type": "code",
      "metadata": {
        "id": "oC64V1zCvTPa",
        "outputId": "b98a6c09-b90c-4b3a-f013-46d354493988",
        "colab": {
          "base_uri": "https://localhost:8080/",
          "height": 224
        }
      },
      "source": [
        "fig, axes = plt.subplots(1, 3, figsize=(10, 3))\n",
        "\n",
        "for n_neighbors, ax in zip([1, 3, 9], axes):\n",
        "    clf = KNeighborsClassifier(n_neighbors=n_neighbors)\n",
        "    clf.fit(X_forge, y_forge)\n",
        "    mglearn.plots.plot_2d_separator(clf, X_forge, fill=True, eps=0.5, ax=ax, alpha=0.4)\n",
        "    mglearn.discrete_scatter(X_forge[:, 0], X_forge[:, 1], y_forge, ax=ax)\n",
        "    ax.set_title(\"{} neighbor(s)\".format(n_neighbors))\n",
        "    ax.set_xlabel(\"feature 0\")\n",
        "    ax.set_ylabel(\"feature 1\")\n",
        "\n",
        "axes[0].legend(loc=3)\n",
        "plt.show()\n"
      ],
      "execution_count": 17,
      "outputs": [
        {
          "output_type": "display_data",
          "data": {
            "image/png": "[encoded data removed]",
            "text/plain": [
              "<Figure size 720x216 with 3 Axes>"
            ]
          },
          "metadata": {
            "tags": []
          }
        }
      ]
    },
    {
      "cell_type": "code",
      "metadata": {
        "id": "asXSn3rPw7cu",
        "outputId": "84394812-1edd-43f0-cc39-f6fca1264c08",
        "colab": {
          "base_uri": "https://localhost:8080/",
          "height": 70
        }
      },
      "source": [
        "from sklearn.model_selection import train_test_split\n",
        "from sklearn.neighbors import KNeighborsRegressor\n",
        "import mglearn.datasets\n",
        "\n",
        "X_wave, y_wave = mglearn.datasets.make_wave()\n",
        "\n",
        "X_wave_train, X_wave_test, y_wave_train, y_wave_test = train_test_split(X_wave, y_wave, random_state=42)\n",
        "knn_reg = KNeighborsRegressor(n_neighbors=3)\n",
        "knn_reg.fit(X_wave_train, y_wave_train)\n"
      ],
      "execution_count": 19,
      "outputs": [
        {
          "output_type": "execute_result",
          "data": {
            "text/plain": [
              "KNeighborsRegressor(algorithm='auto', leaf_size=30, metric='minkowski',\n",
              "                    metric_params=None, n_jobs=None, n_neighbors=3, p=2,\n",
              "                    weights='uniform')"
            ]
          },
          "metadata": {
            "tags": []
          },
          "execution_count": 19
        }
      ]
    },
    {
      "cell_type": "code",
      "metadata": {
        "id": "UmxU2e7mx4bL"
      },
      "source": [
        ""
      ],
      "execution_count": null,
      "outputs": []
    }
  ]
}